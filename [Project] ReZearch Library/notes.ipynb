{
 "cells": [
  {
   "cell_type": "markdown",
   "metadata": {},
   "source": [
    "# Website Opening"
   ]
  },
  {
   "cell_type": "code",
   "execution_count": null,
   "metadata": {},
   "outputs": [],
   "source": [
    "# Website opens with a basic interface of the site name, short slogan/description, and two button options.\n",
    "    # Button options include (1) an option to add a new research link, and (2) to view keywords and existing research links."
   ]
  },
  {
   "cell_type": "markdown",
   "metadata": {},
   "source": [
    "# Button Options"
   ]
  },
  {
   "cell_type": "markdown",
   "metadata": {},
   "source": [
    "### Add New Link"
   ]
  },
  {
   "cell_type": "code",
   "execution_count": null,
   "metadata": {},
   "outputs": [],
   "source": [
    "# Pop-up window opens with the following information:\n",
    "    # Name of the Website (or research article title)\n",
    "    # Date of Research Publication (if none, N/A)\n",
    "    # Link to the Article (if PDF, file upload)\n",
    "    # Short Description (max. of 500 characters)\n",
    "    # Keywords\n",
    "# After submission, there will be a 5 second loading time, and a pop-up text at the top will appear:\n",
    "    # \"Upload complete! Thank you for taking part in helping the research community.\"\n",
    "    # The entire screen goes back to the main homepage."
   ]
  },
  {
   "cell_type": "markdown",
   "metadata": {},
   "source": [
    "### View Existing Links"
   ]
  },
  {
   "cell_type": "code",
   "execution_count": null,
   "metadata": {},
   "outputs": [],
   "source": [
    "# This button redirects the user to a new webpage, asking them to input their desired primary category and secondary category.\n",
    "    # All research with the primary categories go in first, whilst the secondary categories come after.\n",
    "    # The database must be divided into multiple pages, if need be (max. of 10 research links per page).\n",
    "# If the file is to be downloaded, there must be a download button on the right side of each row."
   ]
  },
  {
   "cell_type": "markdown",
   "metadata": {},
   "source": [
    "### Return to Homepage"
   ]
  },
  {
   "cell_type": "code",
   "execution_count": null,
   "metadata": {},
   "outputs": [],
   "source": [
    "# A button returns the user to the homepage."
   ]
  }
 ],
 "metadata": {
  "language_info": {
   "name": "python"
  },
  "orig_nbformat": 4
 },
 "nbformat": 4,
 "nbformat_minor": 2
}
